{
 "cells": [
  {
   "cell_type": "code",
   "execution_count": 440,
   "metadata": {},
   "outputs": [],
   "source": [
    "import numpy as np\n",
    "import matplotlib.pyplot as plt\n",
    "import scipy.interpolate as interp\n",
    "from matplotlib import rc\n",
    "\n",
    "data_all = np.genfromtxt('ac.csv', delimiter=',')"
   ]
  },
  {
   "cell_type": "code",
   "execution_count": 441,
   "metadata": {},
   "outputs": [],
   "source": [
    "def get_variance(data,model):\n",
    "    return sum((data-model)**2)/np.shape(data)"
   ]
  },
  {
   "cell_type": "code",
   "execution_count": 442,
   "metadata": {
    "scrolled": true
   },
   "outputs": [
    {
     "data": {
      "text/plain": [
       "([<matplotlib.axis.XTick at 0x1e638d88e48>,\n",
       "  <matplotlib.axis.XTick at 0x1e638d88548>,\n",
       "  <matplotlib.axis.XTick at 0x1e638d88208>,\n",
       "  <matplotlib.axis.XTick at 0x1e638cee108>,\n",
       "  <matplotlib.axis.XTick at 0x1e638cee988>,\n",
       "  <matplotlib.axis.XTick at 0x1e638cde188>,\n",
       "  <matplotlib.axis.XTick at 0x1e638cde908>],\n",
       " <a list of 7 Text xticklabel objects>)"
      ]
     },
     "execution_count": 442,
     "metadata": {},
     "output_type": "execute_result"
    },
    {
     "data": {
      "image/png": "[encoded data removed]",
      "text/plain": [
       "<Figure size 936x288 with 2 Axes>"
      ]
     },
     "metadata": {
      "needs_background": "light"
     },
     "output_type": "display_data"
    }
   ],
   "source": [
    "# Plot overall response curves obtained from data\n",
    "plt.figure(figsize=[13,4])\n",
    "\n",
    "# Left wheel\n",
    "plt.subplot(121).set_xlim([0,180])\n",
    "plt.scatter(data_all[:,0],data_all[:,1]) \n",
    "plt.xlabel(\"Input, $u_t$\")\n",
    "plt.ylabel(\"Left motor output, $\\omega_l$, rad/s\")\n",
    "plt.xticks(np.linspace(0,180,7))\n",
    "\n",
    "# Right wheel\n",
    "plt.subplot(122).set_xlim([0,180])\n",
    "plt.scatter(data_all[:,0],data_all[:,2]) \n",
    "plt.xlabel(\"Input, $u_t$\")\n",
    "plt.ylabel(\"Right motor output, $\\omega_r$, rad/s\")\n",
    "plt.xticks(np.linspace(0,180,7))"
   ]
  },
  {
   "cell_type": "code",
   "execution_count": 509,
   "metadata": {},
   "outputs": [],
   "source": [
    "## Extract data from saturation regions\n",
    "\n",
    "# left motor,above 90\n",
    "ind_left_as = range(34,45)\n",
    "\n",
    "# left motor, below 90\n",
    "ind_left_bs = range(0,10)\n",
    "\n",
    "# right motor, above 90\n",
    "ind_right_as = range(34,45)\n",
    "\n",
    "# right motor, below 90\n",
    "ind_right_bs = range(0,8)\n",
    "\n",
    "saturatation_ranges = [[data_all[ind_left_as,0][0],data_all[ind_left_as,0][-1]],\n",
    "                         [data_all[ind_left_bs,0][0],data_all[ind_left_bs,0][-1]],\n",
    "                         [data_all[ind_right_as,0][0],data_all[ind_right_as,0][-1]],\n",
    "                         [data_all[ind_right_bs,0][0],data_all[ind_right_bs,0][-1]]]\n"
   ]
  },
  {
   "cell_type": "code",
   "execution_count": 578,
   "metadata": {},
   "outputs": [
    {
     "name": "stdout",
     "output_type": "stream",
     "text": [
      "[7.916944760363637, -8.060222264100002, -8.041020904636364, 7.667389519625]\n",
      "[array([0.0034905]), array([0.00584804]), array([0.00525421]), array([0.01099584])]\n"
     ]
    }
   ],
   "source": [
    "## For the saturation region, we model the output as a constant function\n",
    "# Get means\n",
    "\n",
    "saturation = []\n",
    "saturation.append(np.mean(data_all[ind_left_as,1]))\n",
    "saturation.append(np.mean(data_all[ind_left_bs,1]))\n",
    "saturation.append(np.mean(data_all[ind_right_as,2]))\n",
    "saturation.append(np.mean(data_all[ind_right_bs,2]))\n",
    "\n",
    "print(saturation)\n",
    "\n",
    "sat_var = [0,0,0,0]\n",
    "sat_var[0] = get_variance(data_all[ind_left_as,1],saturation[0])\n",
    "sat_var[1] = get_variance(data_all[ind_left_bs,1],saturation[1])\n",
    "sat_var[2] = get_variance(data_all[ind_right_as,2],saturation[2])\n",
    "sat_var[3] = get_variance(data_all[ind_right_bs,2],saturation[3])\n",
    "print(sat_var)"
   ]
  },
  {
   "cell_type": "code",
   "execution_count": 510,
   "metadata": {},
   "outputs": [
    {
     "name": "stdout",
     "output_type": "stream",
     "text": [
      "[[92.0, 120.0], [55.0, 86.0], [93.0, 120.0], [45.0, 86.0]]\n"
     ]
    }
   ],
   "source": [
    "## Extract data from curved region\n",
    "\n",
    "# left motor,above 90\n",
    "ind_left_a = range(25,33) \n",
    "\n",
    "# left motor, below 90\n",
    "ind_left_b = range(11,20) \n",
    "\n",
    "# right motor, above 90\n",
    "ind_right_a = range(26,33) \n",
    "\n",
    "# right motor, below 90\n",
    "ind_right_b = range(9,20)\n",
    "\n",
    "curve_input_range = [[data_all[ind_left_a,0][0],data_all[ind_left_a,0][-1]],\n",
    "                     [data_all[ind_left_b,0][0],data_all[ind_left_b,0][-1]],\n",
    "                     [data_all[ind_right_a,0][0],data_all[ind_right_a,0][-1]],\n",
    "                     [data_all[ind_right_b,0][0],data_all[ind_right_b,0][-1]]]\n",
    "\n",
    "\n",
    "print(curve_input_range)"
   ]
  },
  {
   "cell_type": "code",
   "execution_count": 581,
   "metadata": {
    "scrolled": true
   },
   "outputs": [
    {
     "name": "stderr",
     "output_type": "stream",
     "text": [
      "C:\\ProgramData\\Anaconda3\\lib\\site-packages\\ipykernel_launcher.py:4: DeprecationWarning: object of type <class 'numpy.float64'> cannot be safely interpreted as an integer.\n",
      "  after removing the cwd from sys.path.\n"
     ]
    }
   ],
   "source": [
    "# Spline model input ranges\n",
    "model_inputs = []\n",
    "for i in range(0,4):\n",
    "    model_inputs.append(np.linspace(curve_input_range[i][0],curve_input_range[i][1],curve_input_range[i][1]-curve_input_range[i][0]+1))\n",
    "\n",
    "model_inputs[1] = model_inputs[1]\n",
    "model_inputs[3] = model_inputs[3]\n",
    "\n",
    "def get_poly_curve(data,inputs):\n",
    "    \n",
    "    weights = np.ones(np.shape(data))\n",
    "    weights[0] = 10\n",
    "    weights[-1] = 10\n",
    "    \n",
    "    f2 = interp.interp1d(inputs, data, kind='linear')\n",
    "    \n",
    "    poly = np.polyfit(inputs,data,2)\n",
    "    \n",
    "    #plt.scatter(inputs, data)\n",
    "    \n",
    "    sweep = np.linspace(inputs[0],inputs[-1],inputs[-1]-inputs[0])\n",
    "    \n",
    "    newy = np.array(f2(sweep))\n",
    "    plt.plot(sweep,newy)\n",
    "    #plt.plot(sweep,np.polyval(poly,sweep))\n",
    "        \n",
    "    return newy"
   ]
  },
  {
   "cell_type": "code",
   "execution_count": 582,
   "metadata": {},
   "outputs": [
    {
     "name": "stdout",
     "output_type": "stream",
     "text": [
      "[[ 93.           2.7318197    0.        ]\n",
      " [ 95.           3.66794239  -3.37805662]\n",
      " [100.           5.07732146  -5.55788174]\n",
      " [105.           6.00686932  -6.60692461]\n",
      " [110.           6.64535728  -7.34445974]\n",
      " [115.           7.2096217   -7.8295144 ]\n",
      " [120.           7.84907596  -8.13884107]]\n"
     ]
    },
    {
     "name": "stderr",
     "output_type": "stream",
     "text": [
      "C:\\ProgramData\\Anaconda3\\lib\\site-packages\\ipykernel_launcher.py:21: DeprecationWarning: object of type <class 'numpy.float64'> cannot be safely interpreted as an integer.\n"
     ]
    },
    {
     "data": {
      "image/png": "[encoded data removed]",
      "text/plain": [
       "<Figure size 432x288 with 1 Axes>"
      ]
     },
     "metadata": {
      "needs_background": "light"
     },
     "output_type": "display_data"
    }
   ],
   "source": [
    "print(data_all[ind_right_a])\n",
    "poly_curves = []\n",
    "\n",
    "plt.scatter(data_all[10:35,0],data_all[10:35,1])\n",
    "plt.scatter(data_all[10:35,0],data_all[10:35,2])\n",
    "\n",
    "for indices,col in zip([ind_left_a, ind_left_b, ind_right_a, ind_right_b],[1,1,2,2]):\n",
    "    model_x = data_all[indices,0]\n",
    "    model_y = data_all[indices,col]\n",
    "    poly_curves.append(get_poly_curve(model_y,model_x))\n"
   ]
  },
  {
   "cell_type": "code",
   "execution_count": 583,
   "metadata": {
    "scrolled": true
   },
   "outputs": [],
   "source": [
    "# Create and plot model\n",
    "\n",
    "response = np.zeros([180,2])\n",
    "\n",
    "for i in range(0,4):\n",
    "    p = [0,0,1,1]\n",
    "    s = [0,1,0,1]\n",
    "    col = p[i]\n",
    "    \n",
    "    \n",
    "    a_c = int(curve_input_range[i][0]) + s[i]\n",
    "    b_c = int(curve_input_range[i][-1]) + s[i]\n",
    "    \n",
    "    \n",
    "    \n",
    "    ap = poly_curves[i]\n",
    "    response[a_c:b_c,col] = ap\n",
    "    \n",
    "\n",
    "response[int(curve_input_range[0][-1]):,0] = saturation[0]\n",
    "response[0:int(curve_input_range[1][0])+1,0] = saturation[1]\n",
    "\n",
    "response[int(curve_input_range[2][-1]):,1] = saturation[2]\n",
    "response[0:int(curve_input_range[3][0])+1,1] = saturation[3]"
   ]
  },
  {
   "cell_type": "code",
   "execution_count": 584,
   "metadata": {
    "scrolled": true
   },
   "outputs": [
    {
     "data": {
      "text/plain": [
       "[<matplotlib.lines.Line2D at 0x1e638ac55c8>]"
      ]
     },
     "execution_count": 584,
     "metadata": {},
     "output_type": "execute_result"
    },
    {
     "data": {
      "image/png": "[encoded data removed]",
      "text/plain": [
       "<Figure size 432x288 with 1 Axes>"
      ]
     },
     "metadata": {
      "needs_background": "light"
     },
     "output_type": "display_data"
    }
   ],
   "source": [
    "plt.plot(response[:,0])\n",
    "plt.plot(response[:,1])"
   ]
  },
  {
   "cell_type": "code",
   "execution_count": 585,
   "metadata": {},
   "outputs": [
    {
     "data": {
      "text/plain": [
       "<matplotlib.legend.Legend at 0x1e63a067b48>"
      ]
     },
     "execution_count": 585,
     "metadata": {},
     "output_type": "execute_result"
    },
    {
     "data": {
      "image/png": "[encoded data removed]",
      "text/plain": [
       "<Figure size 720x432 with 1 Axes>"
      ]
     },
     "metadata": {
      "needs_background": "light"
     },
     "output_type": "display_data"
    }
   ],
   "source": [
    "plt.figure(figsize=[10,6])\n",
    "plt.scatter(data_all[:,0],data_all[:,1], c='b', marker = 'o')\n",
    "plt.scatter(data_all[:,0],data_all[:,2], c='r', marker = 'x')\n",
    "\n",
    "# poly_curves[region][0: coeff; 1: inputs]\n",
    "\n",
    "plt.xlim([50,125])\n",
    "plt.xlabel(\"Input, $u_t$\")\n",
    "plt.ylabel(\"$\\omega_t$\")\n",
    "\n",
    "# left, above 90\n",
    "plt.plot(response[:,0])\n",
    "\n",
    "# right, above 90\n",
    "plt.plot(response[:,1])\n",
    "\n",
    "plt.legend([\"$\\omega_l$\",\"$\\omega_r$\"])\n"
   ]
  },
  {
   "cell_type": "code",
   "execution_count": 587,
   "metadata": {},
   "outputs": [],
   "source": [
    "np.savetxt('actuation_curve_interp.csv', response, delimiter=',')"
   ]
  },
  {
   "cell_type": "code",
   "execution_count": 102,
   "metadata": {},
   "outputs": [
    {
     "data": {
      "text/plain": [
       "array([0.0034905])"
      ]
     },
     "execution_count": 102,
     "metadata": {},
     "output_type": "execute_result"
    }
   ],
   "source": []
  },
  {
   "cell_type": "code",
   "execution_count": 182,
   "metadata": {},
   "outputs": [
    {
     "name": "stdout",
     "output_type": "stream",
     "text": [
      "[[array([2.7038482 , 2.30532366]), [1, 2, 3, 4, 5, 6, 7]], [array([-3.32978409, -1.2199409 ]), [1, 2, 3, 4, 5, 6, 7, 8]], [array([-2.67346608, -3.54437887]), [1, 2, 3, 4, 5, 6]], [array([3.40300979, 1.12301464]), [1, 2, 3, 4, 5, 6, 7]]]\n"
     ]
    }
   ],
   "source": [
    "print(poly_curves)"
   ]
  },
  {
   "cell_type": "code",
   "execution_count": 254,
   "metadata": {
    "scrolled": true
   },
   "outputs": [
    {
     "data": {
      "text/plain": [
       "[<matplotlib.lines.Line2D at 0x1e6384945c8>]"
      ]
     },
     "execution_count": 254,
     "metadata": {},
     "output_type": "execute_result"
    },
    {
     "data": {
      "image/png": "[encoded data removed]",
      "text/plain": [
       "<Figure size 432x288 with 1 Axes>"
      ]
     },
     "metadata": {
      "needs_background": "light"
     },
     "output_type": "display_data"
    }
   ],
   "source": []
  },
  {
   "cell_type": "code",
   "execution_count": null,
   "metadata": {},
   "outputs": [],
   "source": []
  }
 ],
 "metadata": {
  "kernelspec": {
   "display_name": "Python 3",
   "language": "python",
   "name": "python3"
  },
  "language_info": {
   "codemirror_mode": {
    "name": "ipython",
    "version": 3
   },
   "file_extension": ".py",
   "mimetype": "text/x-python",
   "name": "python",
   "nbconvert_exporter": "python",
   "pygments_lexer": "ipython3",
   "version": "3.7.4"
  }
 },
 "nbformat": 4,
 "nbformat_minor": 2
}
